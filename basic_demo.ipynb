{
 "cells": [
  {
   "metadata": {
    "ExecuteTime": {
     "end_time": "2025-07-24T08:53:08.563346Z",
     "start_time": "2025-07-24T08:53:02.579960Z"
    }
   },
   "cell_type": "code",
   "source": "%pip install pygame -q",
   "id": "575ffba47d92971b",
   "outputs": [
    {
     "name": "stdout",
     "output_type": "stream",
     "text": [
      "Note: you may need to restart the kernel to use updated packages.\n"
     ]
    }
   ],
   "execution_count": 1
  },
  {
   "metadata": {
    "ExecuteTime": {
     "end_time": "2025-07-24T09:09:30.215129Z",
     "start_time": "2025-07-24T08:53:16.685259Z"
    }
   },
   "cell_type": "code",
   "source": "%pip install torch torchvision torchaudio -q --index-url https://download.pytorch.org/whl/cu121\n",
   "id": "caf3abe1f445279a",
   "outputs": [
    {
     "name": "stdout",
     "output_type": "stream",
     "text": [
      "Note: you may need to restart the kernel to use updated packages.\n"
     ]
    }
   ],
   "execution_count": 2
  },
  {
   "metadata": {
    "ExecuteTime": {
     "end_time": "2025-07-24T04:01:53.394057Z",
     "start_time": "2025-07-24T04:01:50.973873Z"
    }
   },
   "cell_type": "code",
   "source": [
    "import torch\n",
    "\n",
    "print(\"CUDA available:\", torch.cuda.is_available())\n",
    "print(\"GPU name:\", torch.cuda.get_device_name(0) if torch.cuda.is_available() else \"None\")\n"
   ],
   "id": "7120a230bcd5fb08",
   "outputs": [
    {
     "name": "stdout",
     "output_type": "stream",
     "text": [
      "CUDA available: True\n",
      "GPU name: NVIDIA GeForce GTX 1070\n"
     ]
    }
   ],
   "execution_count": 1
  },
  {
   "metadata": {},
   "cell_type": "code",
   "source": "%pip install deepface",
   "id": "f6373fbd9b4b760f",
   "outputs": [],
   "execution_count": null
  },
  {
   "metadata": {},
   "cell_type": "code",
   "outputs": [],
   "execution_count": null,
   "source": "%pip install tf_keras -q",
   "id": "6fa5f0d2412fffda"
  },
  {
   "metadata": {
    "ExecuteTime": {
     "end_time": "2025-07-24T09:34:34.477100Z",
     "start_time": "2025-07-24T09:34:20.844048Z"
    }
   },
   "cell_type": "code",
   "source": [
    "import cv2\n",
    "\n",
    "cap = cv2.VideoCapture(3)\n",
    "if not cap.isOpened():\n",
    "    print(\"Cannot open camera\")\n",
    "else:\n",
    "    ret, frame = cap.read()\n",
    "    if not ret:\n",
    "        print(\"Can't receive frame (stream end?).\")\n",
    "    else:\n",
    "        cv2.imshow(\"Webcam test\", frame)\n",
    "        cv2.waitKey(0)\n",
    "    cap.release()\n",
    "    cv2.destroyAllWindows()\n"
   ],
   "id": "ee93d86693d2835d",
   "outputs": [],
   "execution_count": 11
  },
  {
   "metadata": {},
   "cell_type": "code",
   "source": "%pip install mediapipe -q",
   "id": "b915f64b84561864",
   "outputs": [],
   "execution_count": null
  },
  {
   "metadata": {
    "ExecuteTime": {
     "end_time": "2025-07-24T10:57:18.713768Z",
     "start_time": "2025-07-24T10:56:07.973032Z"
    }
   },
   "cell_type": "code",
   "source": [
    "import pygame\n",
    "import cv2\n",
    "from deepface import DeepFace\n",
    "import numpy as np\n",
    "\n",
    "# Setup PyGame window\n",
    "pygame.init()\n",
    "WIDTH, HEIGHT = 640, 480\n",
    "screen = pygame.display.set_mode((WIDTH, HEIGHT))\n",
    "pygame.display.set_caption(\"Real-Time Age/Gender/Emotion\")\n",
    "font = pygame.font.SysFont(\"Segoe UI\", 12)\n",
    "\n",
    "# Setup webcam\n",
    "cap = cv2.VideoCapture(3)\n",
    "cap.set(cv2.CAP_PROP_FRAME_WIDTH, WIDTH)\n",
    "cap.set(cv2.CAP_PROP_FRAME_HEIGHT, HEIGHT)\n",
    "\n",
    "# Frame skipping for better performance\n",
    "frame_skip = 3\n",
    "frame_count = 0\n",
    "analysis_result = []\n",
    "\n",
    "clock = pygame.time.Clock()\n",
    "running = True\n",
    "\n",
    "DETECTOR_MODEL = \"ssd\"  # fast, perhaps not as accurate\n",
    "# DETECTOR_MODEL = \"retinaface\"  # very slow, but accurate\n",
    "# DETECTOR_MODEL = \"mtcnn\"  # fairly fast and accurate\n",
    "# DETECTOR_MODEL = \"opencv\"  # fast, but not as accurate\n",
    "# DETECTOR_MODEL = \"mediapipe\"  # very fast, but not as accurate\n",
    "\n",
    "while running:\n",
    "    clock.tick(30)  # Target ~30 FPS\n",
    "    frame_count += 1\n",
    "\n",
    "    for event in pygame.event.get():\n",
    "        if event.type == pygame.QUIT:\n",
    "            running = False\n",
    "\n",
    "    ret, frame = cap.read()\n",
    "    if not ret:\n",
    "        continue\n",
    "\n",
    "    frame = cv2.resize(frame, (WIDTH, HEIGHT))\n",
    "\n",
    "    # Run DeepFace analysis every few frames\n",
    "    if frame_count % frame_skip == 0:\n",
    "        try:\n",
    "            analysis_result = DeepFace.analyze(\n",
    "                frame,\n",
    "                actions=['age', 'gender', 'emotion'],\n",
    "                enforce_detection=False,\n",
    "                detector_backend=DETECTOR_MODEL,\n",
    "                silent=True\n",
    "            )\n",
    "        except Exception as e:\n",
    "            print(\"Analysis error:\", e)\n",
    "            analysis_result = []\n",
    "\n",
    "    # Display video in PyGame\n",
    "    rgb_frame = cv2.cvtColor(frame, cv2.COLOR_BGR2RGB)\n",
    "    surface = pygame.surfarray.make_surface(np.flip(np.rot90(rgb_frame), axis=0))\n",
    "    screen.blit(surface, (0, 0))\n",
    "\n",
    "    # Draw results\n",
    "    if analysis_result:\n",
    "        for face in analysis_result:\n",
    "            region = face['region']\n",
    "            x, y, w, h = region['x'], region['y'], region['w'], region['h']\n",
    "\n",
    "            age = int(face['age'])\n",
    "            emotion = face['dominant_emotion']\n",
    "            gender_probs = face['gender']\n",
    "            gender = (\n",
    "                f\"Female ({gender_probs['Woman']:.0f}%)\"\n",
    "                if gender_probs['Woman'] > gender_probs['Man']\n",
    "                else f\"Male ({gender_probs['Man']:.0f}%)\"\n",
    "            )\n",
    "            label = f\"{gender} | {age} y/o | {emotion}\"\n",
    "\n",
    "            pygame.draw.rect(screen, (0, 255, 0), pygame.Rect(x, y, w, h), 2)\n",
    "\n",
    "            # Draw readable label\n",
    "            text_surface = font.render(label, True, (255, 255, 255))\n",
    "            text_rect = text_surface.get_rect()\n",
    "            text_rect.centerx = x + w // 2\n",
    "            text_rect.top = y - text_rect.height - 2  # a little gap above the box\n",
    "\n",
    "\n",
    "            bg_surface = pygame.Surface((text_rect.width, text_rect.height))\n",
    "            bg_surface.set_alpha(150)\n",
    "            bg_surface.fill((0, 0, 0))\n",
    "            screen.blit(bg_surface, text_rect)\n",
    "            screen.blit(text_surface, text_rect)\n",
    "\n",
    "    pygame.display.update()\n",
    "\n",
    "cap.release()\n",
    "pygame.quit()\n"
   ],
   "id": "2c31f486b286f55f",
   "outputs": [
    {
     "name": "stderr",
     "output_type": "stream",
     "text": [
      "E:\\Data\\PyCharmProjects\\DeepFace\\.venv\\Lib\\site-packages\\pygame\\pkgdata.py:25: UserWarning: pkg_resources is deprecated as an API. See https://setuptools.pypa.io/en/latest/pkg_resources.html. The pkg_resources package is slated for removal as early as 2025-11-30. Refrain from using this package or pin to Setuptools<81.\n",
      "  from pkg_resources import resource_stream, resource_exists\n"
     ]
    },
    {
     "name": "stdout",
     "output_type": "stream",
     "text": [
      "pygame 2.6.1 (SDL 2.28.4, Python 3.12.10)\n",
      "Hello from the pygame community. https://www.pygame.org/contribute.html\n",
      "WARNING:tensorflow:From E:\\Data\\PyCharmProjects\\DeepFace\\.venv\\Lib\\site-packages\\tf_keras\\src\\losses.py:2976: The name tf.losses.sparse_softmax_cross_entropy is deprecated. Please use tf.compat.v1.losses.sparse_softmax_cross_entropy instead.\n",
      "\n"
     ]
    }
   ],
   "execution_count": 1
  }
 ],
 "metadata": {
  "kernelspec": {
   "display_name": "Python 3",
   "language": "python",
   "name": "python3"
  },
  "language_info": {
   "codemirror_mode": {
    "name": "ipython",
    "version": 2
   },
   "file_extension": ".py",
   "mimetype": "text/x-python",
   "name": "python",
   "nbconvert_exporter": "python",
   "pygments_lexer": "ipython2",
   "version": "2.7.6"
  }
 },
 "nbformat": 4,
 "nbformat_minor": 5
}
